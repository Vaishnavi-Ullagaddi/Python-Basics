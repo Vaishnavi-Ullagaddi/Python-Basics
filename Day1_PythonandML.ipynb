{
  "nbformat": 4,
  "nbformat_minor": 0,
  "metadata": {
    "colab": {
      "provenance": []
    },
    "kernelspec": {
      "name": "python3",
      "display_name": "Python 3"
    },
    "language_info": {
      "name": "python"
    }
  },
  "cells": [
    {
      "cell_type": "code",
      "execution_count": null,
      "metadata": {
        "id": "m8H_MV3HNCls"
      },
      "outputs": [],
      "source": []
    },
    {
      "cell_type": "markdown",
      "source": [
        "Python Syntax and Structure\n"
      ],
      "metadata": {
        "id": "3SW1BxwnV1_c"
      }
    },
    {
      "cell_type": "code",
      "source": [
        "print(\"Hello,World!\") #function call\n",
        "x=5 #variable assignment\n",
        "y=10 #No need to declare type"
      ],
      "metadata": {
        "colab": {
          "base_uri": "https://localhost:8080/"
        },
        "id": "vr22CgcXV5t1",
        "outputId": "352131e9-7066-4c38-bb97-cecf55ac30fe"
      },
      "execution_count": null,
      "outputs": [
        {
          "output_type": "stream",
          "name": "stdout",
          "text": [
            "Hello,World!\n"
          ]
        }
      ]
    },
    {
      "cell_type": "markdown",
      "source": [
        "Case-Sensitive"
      ],
      "metadata": {
        "id": "3VE39VejWpOq"
      }
    },
    {
      "cell_type": "code",
      "source": [
        "Name = \"Sonu\"\n",
        "name = \"Bablu\"\n",
        "print(Name,name) #Name and name are different"
      ],
      "metadata": {
        "colab": {
          "base_uri": "https://localhost:8080/"
        },
        "id": "ES0aQ61dWsOm",
        "outputId": "e1fe6ba5-be65-44d8-f918-fe5a3a1e4bbd"
      },
      "execution_count": null,
      "outputs": [
        {
          "output_type": "stream",
          "name": "stdout",
          "text": [
            "Sonu Bablu\n"
          ]
        }
      ]
    },
    {
      "cell_type": "markdown",
      "source": [
        "Indentation\n"
      ],
      "metadata": {
        "id": "fdlKm__HW8CZ"
      }
    },
    {
      "cell_type": "code",
      "source": [
        "if x>0:\n",
        "    print(\"x is positive\")  #4 spaces indentation\n",
        "    print(\"This is inside if block\")"
      ],
      "metadata": {
        "colab": {
          "base_uri": "https://localhost:8080/"
        },
        "id": "LNDywnVqXClc",
        "outputId": "36adb30d-f17e-4f75-d782-c5ce0d6ad8fc"
      },
      "execution_count": null,
      "outputs": [
        {
          "output_type": "stream",
          "name": "stdout",
          "text": [
            "x is positive\n",
            "This is inside if block\n"
          ]
        }
      ]
    },
    {
      "cell_type": "markdown",
      "source": [
        "Variables and Data Types\n",
        "\n",
        "Numeric Types"
      ],
      "metadata": {
        "id": "dF-I5qLJXrcT"
      }
    },
    {
      "cell_type": "code",
      "source": [
        "age = 21  #int\n",
        "height = 5.5  #float\n",
        "complex_num = 3 + 4j #complex"
      ],
      "metadata": {
        "id": "V8WvqS_-X8vu"
      },
      "execution_count": null,
      "outputs": []
    },
    {
      "cell_type": "markdown",
      "source": [
        "String Type"
      ],
      "metadata": {
        "id": "cUhfszWbYaZz"
      }
    },
    {
      "cell_type": "code",
      "source": [
        "from re import MULTILINE\n",
        "name = \"Vaishnavi\"\n",
        "message = \"Hi\"\n",
        "Multiline = \"\"\"This is a\n",
        "multiline string\"\"\""
      ],
      "metadata": {
        "id": "L47Am5t7Yc4l"
      },
      "execution_count": null,
      "outputs": []
    },
    {
      "cell_type": "markdown",
      "source": [
        "Boolean Type"
      ],
      "metadata": {
        "id": "vIwTyJBHYzHB"
      }
    },
    {
      "cell_type": "code",
      "source": [
        "is_active = True\n",
        "is_finished = False"
      ],
      "metadata": {
        "id": "IF2ScMhCY2AR"
      },
      "execution_count": null,
      "outputs": []
    },
    {
      "cell_type": "markdown",
      "source": [
        "Type checking"
      ],
      "metadata": {
        "id": "UJ5IFiRaZBPs"
      }
    },
    {
      "cell_type": "code",
      "source": [
        "print(type(age))\n",
        "print(type(name))\n",
        "print(type(height))\n"
      ],
      "metadata": {
        "colab": {
          "base_uri": "https://localhost:8080/"
        },
        "id": "aQ6Qt6izZDVo",
        "outputId": "bb8c728d-b37a-4ec0-c89f-1335b8308284"
      },
      "execution_count": null,
      "outputs": [
        {
          "output_type": "stream",
          "name": "stdout",
          "text": [
            "<class 'int'>\n",
            "<class 'str'>\n",
            "<class 'float'>\n"
          ]
        }
      ]
    },
    {
      "cell_type": "markdown",
      "source": [
        "Type Conversion"
      ],
      "metadata": {
        "id": "FFttbWQpZPTo"
      }
    },
    {
      "cell_type": "code",
      "source": [
        "str_number = \"123\"\n",
        "int_number = int(str_number)\n",
        "float_number = float(str_number)\n",
        "\n",
        "print(f\"Original:{str_number} (type:{type(str_number)})\")\n",
        "print(f\"Integer:{int_number} (type:{type(int_number)})\")\n",
        "print(f\"Float:{float_number} (type:{type(float_number)})\")"
      ],
      "metadata": {
        "colab": {
          "base_uri": "https://localhost:8080/"
        },
        "id": "VktznAR1ZX0i",
        "outputId": "c4632597-22c5-4b11-b3ec-3590388daf0e"
      },
      "execution_count": null,
      "outputs": [
        {
          "output_type": "stream",
          "name": "stdout",
          "text": [
            "Original:123 (type:<class 'str'>)\n",
            "Integer:123 (type:<class 'int'>)\n",
            "Float:123.0 (type:<class 'float'>)\n"
          ]
        }
      ]
    },
    {
      "cell_type": "markdown",
      "source": [
        "Personal Information"
      ],
      "metadata": {
        "id": "010r9RxDHoK5"
      }
    },
    {
      "cell_type": "markdown",
      "source": [
        "create variables for personal information\n"
      ],
      "metadata": {
        "id": "mnVxKicKHqzo"
      }
    },
    {
      "cell_type": "code",
      "source": [
        "first_name = \"Vaishnavi\"\n",
        "last_name = \"U\"\n",
        "age = 21\n",
        "height = 5.5\n",
        "is_student = True"
      ],
      "metadata": {
        "id": "rWN8N9XQHvEQ"
      },
      "execution_count": null,
      "outputs": []
    },
    {
      "cell_type": "markdown",
      "source": [
        "Print formatted information"
      ],
      "metadata": {
        "id": "-icibIZIIEaf"
      }
    },
    {
      "cell_type": "code",
      "source": [
        "print(f\"Name: {first_name} {last_name}\")"
      ],
      "metadata": {
        "colab": {
          "base_uri": "https://localhost:8080/"
        },
        "id": "g9GRFnvVIICh",
        "outputId": "ad586893-4a89-46a6-ba1b-caeb8d2af6c7"
      },
      "execution_count": null,
      "outputs": [
        {
          "output_type": "stream",
          "name": "stdout",
          "text": [
            "Name: Vaishnavi U\n"
          ]
        }
      ]
    },
    {
      "cell_type": "code",
      "source": [
        "print(f\"Age:{age}\")\n",
        "print(f\"Height:{height} feet\")\n",
        "print(f\"Student:{is_student}\")\n"
      ],
      "metadata": {
        "colab": {
          "base_uri": "https://localhost:8080/"
        },
        "id": "Mej1pzTvIrB1",
        "outputId": "f569c2d3-8034-439a-f689-13be6940874b"
      },
      "execution_count": null,
      "outputs": [
        {
          "output_type": "stream",
          "name": "stdout",
          "text": [
            "Age:21\n",
            "Height:5.5 feet\n",
            "Student:True\n"
          ]
        }
      ]
    },
    {
      "cell_type": "markdown",
      "source": [
        "Type Conversions"
      ],
      "metadata": {
        "id": "lh0qt5kDJZuc"
      }
    },
    {
      "cell_type": "markdown",
      "source": [],
      "metadata": {
        "id": "i-8yizK-JcQA"
      }
    },
    {
      "cell_type": "code",
      "source": [
        "age_str = str(age)\n",
        "height_int = int(height)\n",
        "print(f\"Age as string: {age_str}\")\n",
        "print(f\"Height as integer: {height_int}\")"
      ],
      "metadata": {
        "colab": {
          "base_uri": "https://localhost:8080/"
        },
        "id": "b_qDxuU0J425",
        "outputId": "9c830114-5c7e-4171-cfa3-90e4ded2ccbf"
      },
      "execution_count": null,
      "outputs": [
        {
          "output_type": "stream",
          "name": "stdout",
          "text": [
            "Age as string: 21\n",
            "Height as integer: 5\n"
          ]
        }
      ]
    },
    {
      "cell_type": "markdown",
      "source": [
        "Operators and Basic Operations"
      ],
      "metadata": {
        "id": "fvKrlqvpJ9i-"
      }
    },
    {
      "cell_type": "markdown",
      "source": [
        "Arithmetic Operators"
      ],
      "metadata": {
        "id": "E4XbI7pCKC2K"
      }
    },
    {
      "cell_type": "code",
      "source": [
        "a = 10\n",
        "b = 3\n",
        "print(f\"Addition:{a} + {b} = {a+b}\")\n",
        "print(f\"Subtraction:{a} - {b} = {a-b}\")\n",
        "print(f\"Multiplication:{a} * {b} = {a*b}\")\n",
        "print(f\"Division:{a} / {b} = {a/b}\")\n",
        "print(f\"Floor Division:{a} // {b} = {a//b}\")\n",
        "print(f\"Modulus:{a} % {b} = {a%b}\")\n",
        "print(f\"Exponentiation:{a} ** {b} = {a**b}\")\n"
      ],
      "metadata": {
        "colab": {
          "base_uri": "https://localhost:8080/"
        },
        "id": "3IxF1OW-KFui",
        "outputId": "cfe03994-ea37-4ed9-fc03-70f10fec458d"
      },
      "execution_count": null,
      "outputs": [
        {
          "output_type": "stream",
          "name": "stdout",
          "text": [
            "Addition:10 + 3 = 13\n",
            "Subtraction:10 - 3 = 7\n",
            "Multiplication:10 * 3 = 30\n",
            "Division:10 / 3 = 3.3333333333333335\n",
            "Floor Division:10 // 3 = 3\n",
            "Modulus:10 % 3 = 1\n",
            "Exponentiation:10 ** 3 = 1000\n"
          ]
        }
      ]
    },
    {
      "cell_type": "markdown",
      "source": [
        "Order of operations(PEMDAS)\n",
        "\n",
        "\n",
        "1.   P - Parantheses\n",
        "2.   E - Exponents\n",
        "3.   M - Multiplication\n",
        "4.   D - Division\n",
        "5.   A - Addition\n",
        "6.   S - Subtraction\n",
        "\n",
        "\n",
        "\n",
        "\n",
        "\n"
      ],
      "metadata": {
        "id": "0erLfojfMkTL"
      }
    },
    {
      "cell_type": "code",
      "source": [
        "result = 2+3*4**2-1\n",
        "print(f\"2+3*4**2-1={result}\")"
      ],
      "metadata": {
        "colab": {
          "base_uri": "https://localhost:8080/"
        },
        "id": "dTdLXAKXNDGa",
        "outputId": "72b5e245-dda1-4d76-90c9-3b94ed69cf78"
      },
      "execution_count": null,
      "outputs": [
        {
          "output_type": "stream",
          "name": "stdout",
          "text": [
            "2+3*4**2-1=49\n"
          ]
        }
      ]
    },
    {
      "cell_type": "markdown",
      "source": [
        "Relational Operators or Comparison"
      ],
      "metadata": {
        "id": "MxLs5T05NP6D"
      }
    },
    {
      "cell_type": "code",
      "source": [
        "x = 5\n",
        "y = 10\n",
        "print(f\"{x} == {y}: {x==y}\") #Equal to\n",
        "print(f\"{x} != {y}: {x!=y}\") # Not Equal to\n",
        "print(f\"{x} < {y}: {x<y}\") #Less than\n",
        "print(f\"{x} > {y}: {x>y}\") #Greater than\n",
        "print(f\"{x} <= {y}: {x<=y}\") #Less than or equal\n",
        "print(f\"{x} >= {y}: {x>=y}\") #Greater than or equal"
      ],
      "metadata": {
        "colab": {
          "base_uri": "https://localhost:8080/"
        },
        "id": "wY96_vPPNXmn",
        "outputId": "9340cc7c-894b-47bb-bb5c-80ad57e790d9"
      },
      "execution_count": null,
      "outputs": [
        {
          "output_type": "stream",
          "name": "stdout",
          "text": [
            "5 == 10: False\n",
            "5 != 10: True\n",
            "5 < 10: True\n",
            "5 > 10: False\n",
            "5 <= 10: True\n",
            "5 >= 10: False\n"
          ]
        }
      ]
    },
    {
      "cell_type": "markdown",
      "source": [
        "String comparison"
      ],
      "metadata": {
        "id": "KnYBcpmXOFNV"
      }
    },
    {
      "cell_type": "code",
      "source": [
        "name1 =\"Vaishnavi\"\n",
        "name2 = \"Ullagaddi\"\n",
        "print(f\"'{name1}' < '{name2}' : {name1 < name2}\") #Alphabetical order"
      ],
      "metadata": {
        "colab": {
          "base_uri": "https://localhost:8080/"
        },
        "id": "VfCSC5r6OJWn",
        "outputId": "b1e7c9c2-f381-45fb-b428-0837281338ab"
      },
      "execution_count": null,
      "outputs": [
        {
          "output_type": "stream",
          "name": "stdout",
          "text": [
            "'Uaishnavi' < 'Vllagaddi' : True\n"
          ]
        }
      ]
    },
    {
      "cell_type": "markdown",
      "source": [
        "Logical Operators"
      ],
      "metadata": {
        "id": "uIHMwTNDO46B"
      }
    },
    {
      "cell_type": "code",
      "source": [
        "p = True\n",
        "q = False\n",
        "\n",
        "print(f\"p and q: {p and q}\") # Both must be True\n",
        "print(f\"p or q: {p or q}\") # Atleast one must be True\n",
        "print(f\"not p: {not p}\") # Opposite of p"
      ],
      "metadata": {
        "colab": {
          "base_uri": "https://localhost:8080/"
        },
        "id": "T4OkL1PKO7gd",
        "outputId": "82ce0804-6b48-4bfd-bbff-0eea7b4e1082"
      },
      "execution_count": null,
      "outputs": [
        {
          "output_type": "stream",
          "name": "stdout",
          "text": [
            "p and q: False\n",
            "p or q: True\n",
            "not p: False\n"
          ]
        }
      ]
    },
    {
      "cell_type": "markdown",
      "source": [
        "#Practical example"
      ],
      "metadata": {
        "id": "15YCv6BSP_7X"
      }
    },
    {
      "cell_type": "code",
      "source": [
        "age =21\n",
        "has_license = True\n",
        "can_drive = age>=18 and has_license\n",
        "print(f\"Can drive:{can_drive}\")"
      ],
      "metadata": {
        "colab": {
          "base_uri": "https://localhost:8080/"
        },
        "id": "HkQLKZFPQECx",
        "outputId": "b110d3a7-f9ff-4151-ef0a-cd0d93265d70"
      },
      "execution_count": null,
      "outputs": [
        {
          "output_type": "stream",
          "name": "stdout",
          "text": [
            "Can drive:True\n"
          ]
        }
      ]
    },
    {
      "cell_type": "markdown",
      "source": [
        "#Multiple conditions"
      ],
      "metadata": {
        "id": "hfLdxyxsQbBm"
      }
    },
    {
      "cell_type": "code",
      "source": [
        "score = 80\n",
        "is_present = True\n",
        "can_pass = score >= 80 and is_present\n",
        "print(f\"can pass:{can_pass}\")"
      ],
      "metadata": {
        "colab": {
          "base_uri": "https://localhost:8080/"
        },
        "id": "MFaHrXU6Qgq9",
        "outputId": "8788b703-056f-4c2c-dd53-b4b9c9409542"
      },
      "execution_count": null,
      "outputs": [
        {
          "output_type": "stream",
          "name": "stdout",
          "text": [
            "can pass:True\n"
          ]
        }
      ]
    },
    {
      "cell_type": "markdown",
      "source": [
        "Simple Calculator\n",
        "#Personal information"
      ],
      "metadata": {
        "id": "QxZ94RS6Q82T"
      }
    },
    {
      "cell_type": "code",
      "source": [
        "age = 21\n",
        "annual_income = 50000\n",
        "credit_score = 720\n",
        "has_collateral = True\n",
        "\n",
        "\n"
      ],
      "metadata": {
        "id": "xMey3DppRYSw"
      },
      "execution_count": null,
      "outputs": []
    },
    {
      "cell_type": "markdown",
      "source": [
        "Loan creteria"
      ],
      "metadata": {
        "id": "nqQtznFaRts7"
      }
    },
    {
      "cell_type": "code",
      "source": [
        "min_age = 18\n",
        "min_income = 30000\n",
        "min_credit_score = 650\n",
        "\n",
        "\n",
        "\n"
      ],
      "metadata": {
        "id": "7tS768yfRwp5"
      },
      "execution_count": null,
      "outputs": []
    },
    {
      "cell_type": "code",
      "source": [
        "# Check qualifications\n",
        "\n",
        "age_qualified = age >= min_age\n",
        "income_qualified = annual_income >= min_income\n",
        "credit_qualified = credit_score >= min_credit_score\n",
        "overall_qualified = age_qualified and income_qualified and credit_qualified"
      ],
      "metadata": {
        "id": "-BHGhbUNTyvh"
      },
      "execution_count": null,
      "outputs": []
    },
    {
      "cell_type": "code",
      "source": [
        "print(\"=== Loan Qualification Check ===\")\n",
        "print(f\"Age:{age} (Required:{min_age}) - {'Yes' if age_qualified else 'No'}\")\n",
        "print(f\"Income: ${annual_income} (Required: ${min_income}) - {'Yes' if income_qualified else 'No'}\")\n",
        "print(f\"Credit Score: {credit_score} (Required: {min_credit_score}) - {'Yes' if credit_qualified else 'No'}\")\n",
        "print(f\"Has Collateral: {'Yes' if has_collateral else 'No'}\")\n",
        "print(f\"\\nOverall Qualification: {'QUALIFIED' if overall_qualified else 'NOT QUALIFIED'}\")\n",
        "\n"
      ],
      "metadata": {
        "colab": {
          "base_uri": "https://localhost:8080/"
        },
        "id": "gGWDFs4QgmfR",
        "outputId": "fb07c626-6039-4546-d3e8-fddc7127aec3"
      },
      "execution_count": null,
      "outputs": [
        {
          "output_type": "stream",
          "name": "stdout",
          "text": [
            "=== Loan Qualification Check ===\n",
            "Age:21 (Required:18) - Yes\n",
            "Income: $50000 (Required: $30000) - Yes\n",
            "Credit Score: 720 (Required: 650) - Yes\n",
            "Has Collateral: Yes\n",
            "\n",
            "Overall Qualification: QUALIFIED\n"
          ]
        }
      ]
    },
    {
      "cell_type": "markdown",
      "source": [
        "Data Structures"
      ],
      "metadata": {
        "id": "W4Hjnzzni3uG"
      }
    },
    {
      "cell_type": "markdown",
      "source": [
        "Lists\n",
        "\n",
        "Creating lists"
      ],
      "metadata": {
        "id": "L0a8tyu0jG4k"
      }
    },
    {
      "cell_type": "code",
      "source": [
        "fruits = [\"apple\",\"banana\",\"orange\",\"grape\"]\n",
        "numbers = [10,20,30,40,50]\n",
        "mixed_data = [1,\"Hi\",3.14,True]\n"
      ],
      "metadata": {
        "id": "6ecVfBXMjMj6"
      },
      "execution_count": null,
      "outputs": []
    },
    {
      "cell_type": "markdown",
      "source": [
        "List indexing(0 - based)"
      ],
      "metadata": {
        "id": "UjKHBipRji-b"
      }
    },
    {
      "cell_type": "code",
      "source": [
        "print(f\"First fruit: {fruits[0]}\")\n",
        "print(f\"Last fruit: {fruits[-1]}\")\n",
        "print(f\"Second to last: {fruits[-2]}\")"
      ],
      "metadata": {
        "colab": {
          "base_uri": "https://localhost:8080/"
        },
        "id": "l1SiJVll5F05",
        "outputId": "d60a82eb-ca7a-4e5f-da91-76ab098d0097"
      },
      "execution_count": null,
      "outputs": [
        {
          "output_type": "stream",
          "name": "stdout",
          "text": [
            "First fruit: apple\n",
            "Last fruit: kiwi\n",
            "Second to last: grape\n"
          ]
        }
      ]
    },
    {
      "cell_type": "markdown",
      "source": [
        "List slicing"
      ],
      "metadata": {
        "id": "nNRNx1cIkx0g"
      }
    },
    {
      "cell_type": "code",
      "source": [
        "print(f\"First 2 fruits: {fruits[0:2]}\")\n",
        "print(f\"Last 2 fruits: {fruits[-2:]}\")\n",
        "print(f\"All except first: {fruits[1:]}\")\n"
      ],
      "metadata": {
        "colab": {
          "base_uri": "https://localhost:8080/"
        },
        "id": "T_2a47Apk0F7",
        "outputId": "7426f72b-c7e4-46fb-eead-c2f84d4c47de"
      },
      "execution_count": null,
      "outputs": [
        {
          "output_type": "stream",
          "name": "stdout",
          "text": [
            "First 2 fruits: ['apple', 'banana']\n",
            "Last 2 fruits: ['orange', 'grape']\n",
            "All except first: ['banana', 'orange', 'grape']\n"
          ]
        }
      ]
    },
    {
      "cell_type": "markdown",
      "source": [
        "List Methods"
      ],
      "metadata": {
        "id": "-zeD7ic5s_BZ"
      }
    },
    {
      "cell_type": "code",
      "source": [
        "fruits = [\"apple\",\"banana\",\"orange\",\"grape\",\"kiwi\"]\n",
        "fruits.append(\"kiwi\") # Add to end\n",
        "fruits.insert(1, \"strawberry\") # Insert at index\n",
        "removed = fruits.pop() # Remove last\n",
        "print(f\"Updated list: {fruits}\")\n",
        "print(f\"Removed: {removed}\")"
      ],
      "metadata": {
        "colab": {
          "base_uri": "https://localhost:8080/"
        },
        "id": "l4-CYUHmtCee",
        "outputId": "711c6c1a-7523-4509-86db-556e18708183"
      },
      "execution_count": null,
      "outputs": [
        {
          "output_type": "stream",
          "name": "stdout",
          "text": [
            "Updated list: ['apple', 'strawberry', 'banana', 'orange', 'grape', 'kiwi']\n",
            "Removed: kiwi\n"
          ]
        }
      ]
    },
    {
      "cell_type": "markdown",
      "source": [
        "List Operations"
      ],
      "metadata": {
        "id": "SS6HQ8o03AyZ"
      }
    },
    {
      "cell_type": "code",
      "source": [
        "print(f\"Length of fruits: {len(fruits)}\")\n",
        "print(f\"Contains 'apple':{'apple' in fruits}\")\n",
        "print(f\"Index of 'banana' :{fruits.index('banana')}\")\n",
        "\n"
      ],
      "metadata": {
        "colab": {
          "base_uri": "https://localhost:8080/"
        },
        "id": "ZwrIu-wt3DMG",
        "outputId": "451c1c31-33ab-458a-bf39-f27187574cdb"
      },
      "execution_count": null,
      "outputs": [
        {
          "output_type": "stream",
          "name": "stdout",
          "text": [
            "Length of fruits: 6\n",
            "Contains 'apple':True\n",
            "Index of 'banana' :2\n"
          ]
        }
      ]
    },
    {
      "cell_type": "markdown",
      "source": [
        "**Tuples**"
      ],
      "metadata": {
        "id": "P_GUNTK237H6"
      }
    },
    {
      "cell_type": "markdown",
      "source": [
        "Tuples are immutable"
      ],
      "metadata": {
        "id": "xxmtyPBf4BG2"
      }
    },
    {
      "cell_type": "code",
      "source": [
        "coordinates = (10, 20)\n",
        "rgb_color = (255, 128, 0)\n",
        "person_info = (\"Alice\", 25, \"Engineer\", True)"
      ],
      "metadata": {
        "id": "ROPaIXU14Hzl"
      },
      "execution_count": null,
      "outputs": []
    },
    {
      "cell_type": "markdown",
      "source": [
        "**Tuple unpacking**"
      ],
      "metadata": {
        "id": "_76QwpqzwGau"
      }
    },
    {
      "cell_type": "code",
      "source": [
        "\n",
        "x, y = coordinates\n",
        "print(f\"X: {x}, Y: {y}\")\n"
      ],
      "metadata": {
        "colab": {
          "base_uri": "https://localhost:8080/"
        },
        "id": "C3vh7ytbwMJI",
        "outputId": "184d81be-dd81-4e11-e38f-d9baeceaa0df"
      },
      "execution_count": null,
      "outputs": [
        {
          "output_type": "stream",
          "name": "stdout",
          "text": [
            "X: 10, Y: 20\n"
          ]
        }
      ]
    },
    {
      "cell_type": "markdown",
      "source": [
        "**Tuple Methods**"
      ],
      "metadata": {
        "id": "NpPYUrSuwUM9"
      }
    },
    {
      "cell_type": "code",
      "source": [
        "print(f\"Count of 25: {person_info.count(25)}\")\n",
        "print(f\"Index of 'Engineer': {person_info.index('Engineer')}\")"
      ],
      "metadata": {
        "colab": {
          "base_uri": "https://localhost:8080/"
        },
        "id": "rSh2OZTTwZWc",
        "outputId": "460b509b-2314-4c88-8fe5-52fac6c77fc5"
      },
      "execution_count": null,
      "outputs": [
        {
          "output_type": "stream",
          "name": "stdout",
          "text": [
            "Count of 25: 1\n",
            "Index of 'Engineer': 2\n"
          ]
        }
      ]
    },
    {
      "cell_type": "markdown",
      "source": [
        "**Why to use tuples**"
      ],
      "metadata": {
        "id": "vzCY4pQ5xB0x"
      }
    },
    {
      "cell_type": "markdown",
      "source": [
        "\n",
        "* Immutable (safe for dictionary keys)\n",
        "* Slightly faster than lists\n",
        "* Good for fixed collections  \n",
        "\n",
        "\n",
        "\n",
        "\n"
      ],
      "metadata": {
        "id": "0KbqztyHxInq"
      }
    },
    {
      "cell_type": "markdown",
      "source": [
        "**Dictionaries**"
      ],
      "metadata": {
        "id": "Naz0oHitxpiS"
      }
    },
    {
      "cell_type": "markdown",
      "source": [
        "Dictionary creation"
      ],
      "metadata": {
        "id": "FhOHOGz0xtsK"
      }
    },
    {
      "cell_type": "code",
      "source": [
        "person = {\n",
        "\"name\": \"Alice Johnson\",\n",
        "\"age\": 23,\n",
        "\"profession\": \"Software Engineer\",\n",
        "\"salary\": 75000,\n",
        "\"skills\": [\"Python\", \"JavaScript\", \"SQL\"]\n",
        "}\n"
      ],
      "metadata": {
        "id": "YOmlBDFExxAB"
      },
      "execution_count": null,
      "outputs": []
    },
    {
      "cell_type": "markdown",
      "source": [
        "Accessing values"
      ],
      "metadata": {
        "id": "NhY9KZOEx19B"
      }
    },
    {
      "cell_type": "code",
      "source": [
        "\n",
        "print(f\"Name: {person['name']}\")\n",
        "print(f\"Age: {person.get('age', 'Unknown')}\") # Safe access\n"
      ],
      "metadata": {
        "colab": {
          "base_uri": "https://localhost:8080/"
        },
        "id": "zQYoP62Fx56o",
        "outputId": "15ecbc97-d2ee-4295-add4-8de54583be4b"
      },
      "execution_count": null,
      "outputs": [
        {
          "output_type": "stream",
          "name": "stdout",
          "text": [
            "Name: Alice Johnson\n",
            "Age: 23\n"
          ]
        }
      ]
    },
    {
      "cell_type": "markdown",
      "source": [
        "Dictionary methods"
      ],
      "metadata": {
        "id": "ssdW4irRyYlk"
      }
    },
    {
      "cell_type": "code",
      "source": [
        "print(f\"Keys: {list(person.keys())}\")\n",
        "print(f\"Values: {list(person.values())}\")\n",
        "print(f\"Items: {list(person.items())}\")"
      ],
      "metadata": {
        "colab": {
          "base_uri": "https://localhost:8080/"
        },
        "id": "eo3fhHsuyeui",
        "outputId": "2b9e396d-6329-4411-8409-d0c14662ecfc"
      },
      "execution_count": null,
      "outputs": [
        {
          "output_type": "stream",
          "name": "stdout",
          "text": [
            "Keys: ['name', 'age', 'profession', 'salary', 'skills']\n",
            "Values: ['Alice Johnson', 23, 'Software Engineer', 75000, ['Python', 'JavaScript', 'SQL']]\n",
            "Items: [('name', 'Alice Johnson'), ('age', 23), ('profession', 'Software Engineer'), ('salary', 75000), ('skills', ['Python', 'JavaScript', 'SQL'])]\n"
          ]
        }
      ]
    },
    {
      "cell_type": "markdown",
      "source": [
        "Adding/updating"
      ],
      "metadata": {
        "id": "1XrEJ9Io52Ic"
      }
    },
    {
      "cell_type": "code",
      "source": [
        "person[\"location\"] = \"New York\"\n",
        "person[\"salary\"] = 80000 # Update existing"
      ],
      "metadata": {
        "id": "viNM4ugo6bZ2"
      },
      "execution_count": null,
      "outputs": []
    },
    {
      "cell_type": "markdown",
      "source": [
        "Practical use case: Inventory management"
      ],
      "metadata": {
        "id": "XXPtNLg66gwf"
      }
    },
    {
      "cell_type": "code",
      "source": [
        "inventory = {\n",
        "\"laptops\": {\"quantity\": 50, \"price\": 999.99},\n",
        "\"phones\": {\"quantity\": 100, \"price\": 599.99},\n",
        "\"tablets\": {\"quantity\": 30, \"price\": 399.99}\n",
        "}"
      ],
      "metadata": {
        "id": "RFFVQl7x6jqS"
      },
      "execution_count": null,
      "outputs": []
    },
    {
      "cell_type": "markdown",
      "source": [
        "Nested access"
      ],
      "metadata": {
        "id": "9Pmz1Sq46mhJ"
      }
    },
    {
      "cell_type": "code",
      "source": [
        "print(f\"Laptop price: ${inventory['laptops']['price']}\")"
      ],
      "metadata": {
        "colab": {
          "base_uri": "https://localhost:8080/"
        },
        "id": "2vcCdYYZ6o8J",
        "outputId": "84aa8423-79f1-4e2a-876b-216da6ce4c20"
      },
      "execution_count": null,
      "outputs": [
        {
          "output_type": "stream",
          "name": "stdout",
          "text": [
            "Laptop price: $999.99\n"
          ]
        }
      ]
    },
    {
      "cell_type": "markdown",
      "source": [
        "**Sets**"
      ],
      "metadata": {
        "id": "wkUqob6l6tQJ"
      }
    },
    {
      "cell_type": "markdown",
      "source": [
        "Sets contain unique elements"
      ],
      "metadata": {
        "id": "do7DyDvQ6w3Z"
      }
    },
    {
      "cell_type": "code",
      "source": [
        "colors = {\"red\", \"green\", \"blue\", \"red\"} # Duplicate removed\n",
        "print(f\"Colors: {colors}\")"
      ],
      "metadata": {
        "colab": {
          "base_uri": "https://localhost:8080/"
        },
        "id": "hkFE55Jc6zTq",
        "outputId": "7f260f4c-9a17-4312-c0b0-78a240549a8f"
      },
      "execution_count": null,
      "outputs": [
        {
          "output_type": "stream",
          "name": "stdout",
          "text": [
            "Colors: {'blue', 'red', 'green'}\n"
          ]
        }
      ]
    },
    {
      "cell_type": "markdown",
      "source": [
        "Set operations"
      ],
      "metadata": {
        "id": "_0WbBxom63D5"
      }
    },
    {
      "cell_type": "code",
      "source": [
        "team1_skills = {\"Python\", \"JavaScript\", \"SQL\", \"React\"}\n",
        "team2_skills = {\"JavaScript\", \"SQL\", \"Java\", \"Spring\"}\n"
      ],
      "metadata": {
        "id": "2u4l1agP668j"
      },
      "execution_count": null,
      "outputs": []
    },
    {
      "cell_type": "markdown",
      "source": [
        "Common operations\n"
      ],
      "metadata": {
        "id": "DE1ZSTMg691h"
      }
    },
    {
      "cell_type": "code",
      "source": [
        "print(f\"Common skills: {team1_skills.intersection(team2_skills)}\")\n",
        "print(f\"All skills: {team1_skills.union(team2_skills)}\")\n",
        "print(f\"Team1 only: {team1_skills.difference(team2_skills)}\")\n"
      ],
      "metadata": {
        "colab": {
          "base_uri": "https://localhost:8080/"
        },
        "id": "eF_krA3Y6_-S",
        "outputId": "ab8b07a8-3966-4ce8-814b-9eadef111f04"
      },
      "execution_count": null,
      "outputs": [
        {
          "output_type": "stream",
          "name": "stdout",
          "text": [
            "Common skills: {'JavaScript', 'SQL'}\n",
            "All skills: {'React', 'JavaScript', 'Java', 'SQL', 'Spring', 'Python'}\n",
            "Team1 only: {'React', 'Python'}\n"
          ]
        }
      ]
    },
    {
      "cell_type": "markdown",
      "source": [
        "Adding to sets"
      ],
      "metadata": {
        "id": "rSfeS0ma7EPh"
      }
    },
    {
      "cell_type": "code",
      "source": [
        "colors.add(\"yellow\")\n",
        "colors.update([\"purple\", \"orange\"])\n",
        "print(f\"Updated colors: {colors}\")\n",
        "\n"
      ],
      "metadata": {
        "colab": {
          "base_uri": "https://localhost:8080/"
        },
        "id": "dfU68uim7GsN",
        "outputId": "2426065f-c9b6-45f3-f25a-266f967bd624"
      },
      "execution_count": null,
      "outputs": [
        {
          "output_type": "stream",
          "name": "stdout",
          "text": [
            "Updated colors: {'red', 'orange', 'blue', 'purple', 'yellow', 'green'}\n"
          ]
        }
      ]
    },
    {
      "cell_type": "markdown",
      "source": [
        "**Control Flow**"
      ],
      "metadata": {
        "id": "InoMKSAh7JoR"
      }
    },
    {
      "cell_type": "markdown",
      "source": [
        "\n",
        "Conditional Statements"
      ],
      "metadata": {
        "id": "xo4z3BwB7NuR"
      }
    },
    {
      "cell_type": "markdown",
      "source": [
        "Basic if-else"
      ],
      "metadata": {
        "id": "eZt5rkcD7QWq"
      }
    },
    {
      "cell_type": "code",
      "source": [
        "def get_grade_letter(score):\n",
        "  if score >= 90:\n",
        "    return \"A\"\n",
        "  elif score >= 80:\n",
        "    return \"B\"\n",
        "  elif score >= 70:\n",
        "    return \"C\"\n",
        "  elif score >= 60:\n",
        "    return \"D\"\n",
        "  else:\n",
        "    return \"F\""
      ],
      "metadata": {
        "id": "7A3V2kWp7Ss6"
      },
      "execution_count": null,
      "outputs": []
    },
    {
      "cell_type": "markdown",
      "source": [
        "Test the function"
      ],
      "metadata": {
        "id": "VjsDi5mX7oYZ"
      }
    },
    {
      "cell_type": "code",
      "source": [
        "test_scores = [95, 83, 72, 65, 58]\n",
        "for score in test_scores:\n",
        "  grade = get_grade_letter(score)\n",
        "  print(f\"Score {score}: Grade {grade}\")\n"
      ],
      "metadata": {
        "colab": {
          "base_uri": "https://localhost:8080/"
        },
        "id": "jGdhjZgz7plC",
        "outputId": "f6fc44a9-a25a-456a-8980-f8293adedb70"
      },
      "execution_count": null,
      "outputs": [
        {
          "output_type": "stream",
          "name": "stdout",
          "text": [
            "Score 95: Grade A\n",
            "Score 83: Grade B\n",
            "Score 72: Grade C\n",
            "Score 65: Grade D\n",
            "Score 58: Grade F\n"
          ]
        }
      ]
    },
    {
      "cell_type": "markdown",
      "source": [
        "Nested conditions"
      ],
      "metadata": {
        "id": "FgPBks9Q7v42"
      }
    },
    {
      "cell_type": "code",
      "source": [
        "def get_shipping_cost(weight, distance):\n",
        "  base_cost = 5.0\n",
        "\n",
        "  if weight <= 1:\n",
        "    weight_cost = 2.0\n",
        "  elif weight <= 5:\n",
        "    weight_cost = 5.0\n",
        "  else:\n",
        "    weight_cost = 10.0\n",
        "\n",
        "  if distance <= 100:\n",
        "    distance_cost = 1.0\n",
        "  elif distance <= 500:\n",
        "    distance_cost = 3.0\n",
        "  else:\n",
        "    distance_cost = 7.0\n",
        "  return base_cost + weight_cost + distance_cost\n"
      ],
      "metadata": {
        "id": "uEWACF927yCo"
      },
      "execution_count": null,
      "outputs": []
    },
    {
      "cell_type": "markdown",
      "source": [
        "Test shipping costs"
      ],
      "metadata": {
        "id": "LhHB9JZj701Q"
      }
    },
    {
      "cell_type": "code",
      "source": [
        "print(f\"Light, close: ${get_shipping_cost(0.5, 50)}\")\n",
        "print(f\"Heavy, far: ${get_shipping_cost(10, 800)}\")\n"
      ],
      "metadata": {
        "colab": {
          "base_uri": "https://localhost:8080/"
        },
        "id": "l-PW72aA74sP",
        "outputId": "30e573d1-bb5c-46a9-9738-11deccdcec20"
      },
      "execution_count": null,
      "outputs": [
        {
          "output_type": "stream",
          "name": "stdout",
          "text": [
            "Light, close: $8.0\n",
            "Heavy, far: $22.0\n"
          ]
        }
      ]
    },
    {
      "cell_type": "markdown",
      "source": [
        "**Loops - For Loop**"
      ],
      "metadata": {
        "id": "0d25syEl788g"
      }
    },
    {
      "cell_type": "markdown",
      "source": [
        "Basic for loop"
      ],
      "metadata": {
        "id": "YdNcFUWh8EOh"
      }
    },
    {
      "cell_type": "code",
      "source": [
        "fruits = [\"apple\", \"banana\", \"orange\", \"grape\"]\n",
        "for fruit in fruits:\n",
        "  print(f\"I like {fruit}\")"
      ],
      "metadata": {
        "colab": {
          "base_uri": "https://localhost:8080/"
        },
        "id": "jWknoCQ98HGJ",
        "outputId": "cba565fc-891d-466b-8049-8848e3af7e74"
      },
      "execution_count": null,
      "outputs": [
        {
          "output_type": "stream",
          "name": "stdout",
          "text": [
            "I like apple\n",
            "I like banana\n",
            "I like orange\n",
            "I like grape\n"
          ]
        }
      ]
    },
    {
      "cell_type": "markdown",
      "source": [
        "Loop with enumerate (get index)"
      ],
      "metadata": {
        "id": "CMaDuTe_8LHK"
      }
    },
    {
      "cell_type": "code",
      "source": [
        "for i, fruit in enumerate(fruits):\n",
        "  print(f\"{i+1}. {fruit}\")"
      ],
      "metadata": {
        "colab": {
          "base_uri": "https://localhost:8080/"
        },
        "id": "Y2I49P0x8Omg",
        "outputId": "5d252c8e-9109-4884-cd61-721019be41f1"
      },
      "execution_count": null,
      "outputs": [
        {
          "output_type": "stream",
          "name": "stdout",
          "text": [
            "1. apple\n",
            "2. banana\n",
            "3. orange\n",
            "4. grape\n"
          ]
        }
      ]
    },
    {
      "cell_type": "markdown",
      "source": [
        "Loop with range"
      ],
      "metadata": {
        "id": "0UtPyFUN8SVR"
      }
    },
    {
      "cell_type": "code",
      "source": [
        "\n",
        "for day in range(1, 8):\n",
        "  print(f\"Day {day} of the week\")\n"
      ],
      "metadata": {
        "colab": {
          "base_uri": "https://localhost:8080/"
        },
        "id": "MjDq8mvi8Upz",
        "outputId": "60680f3d-f1d9-4c68-b11b-56887ceaca60"
      },
      "execution_count": null,
      "outputs": [
        {
          "output_type": "stream",
          "name": "stdout",
          "text": [
            "Day 1 of the week\n",
            "Day 2 of the week\n",
            "Day 3 of the week\n",
            "Day 4 of the week\n",
            "Day 5 of the week\n",
            "Day 6 of the week\n",
            "Day 7 of the week\n"
          ]
        }
      ]
    },
    {
      "cell_type": "markdown",
      "source": [
        "Nested loops - Creating a multiplication table"
      ],
      "metadata": {
        "id": "mGNP8D1t8ZJa"
      }
    },
    {
      "cell_type": "code",
      "source": [
        "print(\"Multiplication Table:\")\n",
        "for i in range(1, 6):\n",
        "  for j in range(1, 6):\n",
        "    product = i * j\n",
        "    print(f\"{i} x {j} = {product:2d}\", end=\" \")\n",
        "    print() # New line after each row"
      ],
      "metadata": {
        "colab": {
          "base_uri": "https://localhost:8080/"
        },
        "id": "g6Hh8QuX8frS",
        "outputId": "d5f3ad5f-d1e1-4129-aa97-bf8c100061da"
      },
      "execution_count": null,
      "outputs": [
        {
          "output_type": "stream",
          "name": "stdout",
          "text": [
            "Multiplication Table:\n",
            "1 x 1 =  1 \n",
            "1 x 2 =  2 \n",
            "1 x 3 =  3 \n",
            "1 x 4 =  4 \n",
            "1 x 5 =  5 \n",
            "2 x 1 =  2 \n",
            "2 x 2 =  4 \n",
            "2 x 3 =  6 \n",
            "2 x 4 =  8 \n",
            "2 x 5 = 10 \n",
            "3 x 1 =  3 \n",
            "3 x 2 =  6 \n",
            "3 x 3 =  9 \n",
            "3 x 4 = 12 \n",
            "3 x 5 = 15 \n",
            "4 x 1 =  4 \n",
            "4 x 2 =  8 \n",
            "4 x 3 = 12 \n",
            "4 x 4 = 16 \n",
            "4 x 5 = 20 \n",
            "5 x 1 =  5 \n",
            "5 x 2 = 10 \n",
            "5 x 3 = 15 \n",
            "5 x 4 = 20 \n",
            "5 x 5 = 25 \n"
          ]
        }
      ]
    },
    {
      "cell_type": "markdown",
      "source": [
        "Processing data with loops"
      ],
      "metadata": {
        "id": "b5rVUmav8j_5"
      }
    },
    {
      "cell_type": "code",
      "source": [
        "sales_data = [\n",
        "{\"product\": \"Laptop\", \"price\": 999, \"quantity\": 5},\n",
        "{\"product\": \"Phone\", \"price\": 599, \"quantity\": 10},\n",
        "{\"product\": \"Tablet\", \"price\": 399, \"quantity\": 8}\n",
        "]\n",
        "\n",
        "total_revenue = 0\n",
        "\n",
        "for item in sales_data:\n",
        "  item_revenue = item[\"price\"] * item[\"quantity\"]\n",
        "  total_revenue += item_revenue\n",
        "  print(f\"{item['product']}: ${item_revenue}\")\n",
        "\n",
        "print(f\"Total Revenue: ${total_revenue}\")\n"
      ],
      "metadata": {
        "colab": {
          "base_uri": "https://localhost:8080/"
        },
        "id": "2SZ6P8H28nBB",
        "outputId": "f86bf221-d820-4ec6-acf3-9dbadca9228d"
      },
      "execution_count": null,
      "outputs": [
        {
          "output_type": "stream",
          "name": "stdout",
          "text": [
            "Laptop: $4995\n",
            "Phone: $5990\n",
            "Tablet: $3192\n",
            "Total Revenue: $14177\n"
          ]
        }
      ]
    },
    {
      "cell_type": "markdown",
      "source": [
        "Loops - While Loop"
      ],
      "metadata": {
        "id": "RpF1djyE8sAO"
      }
    },
    {
      "cell_type": "markdown",
      "source": [
        "While loop for user input simulation\n"
      ],
      "metadata": {
        "id": "HQEsZOyM8wna"
      }
    },
    {
      "cell_type": "code",
      "source": [
        "def simple_guessing_game():\n",
        "  target = 7\n",
        "  guess = 0\n",
        "  attempts = 0\n",
        "  print(\"Guess the number between 1 and 10!\")\n",
        "\n",
        "  while guess != target:\n",
        "\n",
        "    # Simulate user input\n",
        "    import random\n",
        "    guess = random.randint(1, 10)\n",
        "    attempts += 1\n",
        "\n",
        "    if guess < target:\n",
        "      print(f\"Guess {attempts}: {guess} - Too low!\")\n",
        "    elif guess > target:\n",
        "      print(f\"Guess {attempts}: {guess} - Too high!\")\n",
        "    else:\n",
        "      print(f\"Guess {attempts}: {guess} - Correct!\")\n",
        "\n",
        "    # Safety check\n",
        "    if attempts > 10:\n",
        "      print(\"Max attempts reached!\")\n",
        "      break\n",
        "\n",
        "  print(f\"Game finished in {attempts} attempts\")\n",
        "\n",
        "simple_guessing_game()\n"
      ],
      "metadata": {
        "colab": {
          "base_uri": "https://localhost:8080/"
        },
        "id": "9fNkV6-08zVK",
        "outputId": "326dedbf-6b2b-492d-a84a-fca41fe50dee"
      },
      "execution_count": null,
      "outputs": [
        {
          "output_type": "stream",
          "name": "stdout",
          "text": [
            "Guess the number between 1 and 10!\n",
            "Guess 1: 8 - Too high!\n",
            "Guess 2: 2 - Too low!\n",
            "Guess 3: 8 - Too high!\n",
            "Guess 4: 7 - Correct!\n",
            "Game finished in 4 attempts\n"
          ]
        }
      ]
    },
    {
      "cell_type": "markdown",
      "source": [
        "While loop for processing"
      ],
      "metadata": {
        "id": "jkwvPo3h885D"
      }
    },
    {
      "cell_type": "code",
      "source": [
        "def process_queue():\n",
        "  queue = [\"Task 1\", \"Task 2\", \"Task 3\", \"Task 4\"]\n",
        "\n",
        "  while queue:\n",
        "    current_task = queue.pop(0) # Remove first item\n",
        "    print(f\"Processing: {current_task}\")\n",
        "\n",
        "    print(f\"Remaining tasks: {len(queue)}\")\n",
        "\n",
        "  print(\"All tasks completed!\")\n",
        "\n",
        "process_queue()"
      ],
      "metadata": {
        "colab": {
          "base_uri": "https://localhost:8080/"
        },
        "id": "DwccVRbq9Bcn",
        "outputId": "c80e9e0c-65e2-4456-e282-c67315a307e7"
      },
      "execution_count": null,
      "outputs": [
        {
          "output_type": "stream",
          "name": "stdout",
          "text": [
            "Processing: Task 1\n",
            "Remaining tasks: 3\n",
            "Processing: Task 2\n",
            "Remaining tasks: 2\n",
            "Processing: Task 3\n",
            "Remaining tasks: 1\n",
            "Processing: Task 4\n",
            "Remaining tasks: 0\n",
            "All tasks completed!\n"
          ]
        }
      ]
    },
    {
      "cell_type": "markdown",
      "source": [
        "**Functions**"
      ],
      "metadata": {
        "id": "4sYzX3ZI9Fo7"
      }
    },
    {
      "cell_type": "markdown",
      "source": [
        "Function Basics\n"
      ],
      "metadata": {
        "id": "PbCepMWs9JmI"
      }
    },
    {
      "cell_type": "markdown",
      "source": [
        "Basic function definition"
      ],
      "metadata": {
        "id": "3-hsNHnT9WSb"
      }
    },
    {
      "cell_type": "code",
      "source": [
        "def greet(name):\n",
        "  return f\"Hello, {name}!\""
      ],
      "metadata": {
        "id": "HXHad0GM9YN7"
      },
      "execution_count": null,
      "outputs": []
    },
    {
      "cell_type": "markdown",
      "source": [
        "Function call"
      ],
      "metadata": {
        "id": "drl85v369eqy"
      }
    },
    {
      "cell_type": "code",
      "source": [
        "message = greet(\"Python Programmer\")\n",
        "print(message)"
      ],
      "metadata": {
        "colab": {
          "base_uri": "https://localhost:8080/"
        },
        "id": "iC0VlMZY9g6E",
        "outputId": "e650854c-1ffc-44c9-fd45-5a3400b8f57d"
      },
      "execution_count": null,
      "outputs": [
        {
          "output_type": "stream",
          "name": "stdout",
          "text": [
            "Hello, Python Programmer!\n"
          ]
        }
      ]
    },
    {
      "cell_type": "markdown",
      "source": [
        "Function with multiple parameters"
      ],
      "metadata": {
        "id": "pgzLjKoa9k-s"
      }
    },
    {
      "cell_type": "code",
      "source": [
        "def calculate_area(length, width):\n",
        "  area = length * width\n",
        "  return area"
      ],
      "metadata": {
        "id": "HaHcrkN29lvK"
      },
      "execution_count": null,
      "outputs": []
    },
    {
      "cell_type": "markdown",
      "source": [
        "Test the function"
      ],
      "metadata": {
        "id": "yFI6nbF79pii"
      }
    },
    {
      "cell_type": "code",
      "source": [
        "room_area = calculate_area(12, 10)\n",
        "print(f\"Room area: {room_area} square feet\")\n"
      ],
      "metadata": {
        "colab": {
          "base_uri": "https://localhost:8080/"
        },
        "id": "OYy5Zx4t9vtF",
        "outputId": "9dd6cb64-8f40-4174-8cd1-47b7ed62c384"
      },
      "execution_count": null,
      "outputs": [
        {
          "output_type": "stream",
          "name": "stdout",
          "text": [
            "Room area: 120 square feet\n"
          ]
        }
      ]
    },
    {
      "cell_type": "markdown",
      "source": [
        "Function with default parameters"
      ],
      "metadata": {
        "id": "2auoiqDq9yeq"
      }
    },
    {
      "cell_type": "code",
      "source": [
        "def create_user_profile(name, age=18, location=\"Unknown\", active=True):\n",
        "  return {\n",
        "      \"name\": name,\n",
        "      \"age\": age,\n",
        "      \"location\": location,\n",
        "      \"active\": active\n",
        "  }\n"
      ],
      "metadata": {
        "id": "dVfwJzB491ji"
      },
      "execution_count": null,
      "outputs": []
    },
    {
      "cell_type": "markdown",
      "source": [
        "Different ways to call"
      ],
      "metadata": {
        "id": "-UpA68NI952Z"
      }
    },
    {
      "cell_type": "code",
      "source": [
        "profile1 = create_user_profile(\"Alice\") # Use defaults\n",
        "profile2 = create_user_profile(\"Bob\", 25) # Override age\n",
        "profile3 = create_user_profile(\"Charlie\", location=\"New York\", age=30) # Named parameters\n",
        "\n",
        "print(f\"Profile 1: {profile1}\")\n",
        "print(f\"Profile 2: {profile2}\")\n",
        "print(f\"Profile 3: {profile3}\")\n"
      ],
      "metadata": {
        "colab": {
          "base_uri": "https://localhost:8080/"
        },
        "id": "ajS-PgBT97yr",
        "outputId": "ae7fa8ef-b2cb-4c22-a8e7-d206db19273b"
      },
      "execution_count": null,
      "outputs": [
        {
          "output_type": "stream",
          "name": "stdout",
          "text": [
            "Profile 1: {'name': 'Alice', 'age': 18, 'location': 'Unknown', 'active': True}\n",
            "Profile 2: {'name': 'Bob', 'age': 25, 'location': 'Unknown', 'active': True}\n",
            "Profile 3: {'name': 'Charlie', 'age': 30, 'location': 'New York', 'active': True}\n"
          ]
        }
      ]
    },
    {
      "cell_type": "markdown",
      "source": [
        "**Advanced Function Concepts**"
      ],
      "metadata": {
        "id": "VnM1_C809_LS"
      }
    },
    {
      "cell_type": "markdown",
      "source": [
        "Function returning multiple values"
      ],
      "metadata": {
        "id": "Kg9NkP0Q-FQD"
      }
    },
    {
      "cell_type": "code",
      "source": [
        "def analyze_text(text):\n",
        "  words = text.split()\n",
        "  word_count = len(words)\n",
        "  char_count = len(text)\n",
        "  char_count_no_spaces = len(text.replace(\" \", \"\"))\n",
        "  return word_count, char_count, char_count_no_spaces\n"
      ],
      "metadata": {
        "id": "c6hh5g_G-IhF"
      },
      "execution_count": null,
      "outputs": []
    },
    {
      "cell_type": "markdown",
      "source": [
        "\n",
        "Test with sample text"
      ],
      "metadata": {
        "id": "Pp7uWdht-O53"
      }
    },
    {
      "cell_type": "code",
      "source": [
        "sample_text = \"Python is a powerful programming language\"\n",
        "words, chars, chars_no_space = analyze_text(sample_text)\n",
        "print(f\"Text: '{sample_text}'\")\n",
        "print(f\"Word count: {words}\")\n",
        "print(f\"Character count: {chars}\")\n",
        "print(f\"Characters (no spaces): {chars_no_space}\")"
      ],
      "metadata": {
        "colab": {
          "base_uri": "https://localhost:8080/"
        },
        "id": "oTJKV6vu-SMW",
        "outputId": "a2bde283-955e-48f3-d1d8-629834a9267c"
      },
      "execution_count": null,
      "outputs": [
        {
          "output_type": "stream",
          "name": "stdout",
          "text": [
            "Text: 'Python is a powerful programming language'\n",
            "Word count: 6\n",
            "Character count: 41\n",
            "Characters (no spaces): 36\n"
          ]
        }
      ]
    },
    {
      "cell_type": "markdown",
      "source": [
        "Variable-length arguments"
      ],
      "metadata": {
        "id": "flobvh4L-Wqd"
      }
    },
    {
      "cell_type": "code",
      "source": [
        "def calculate_average(*numbers):\n",
        "  if not numbers:\n",
        "    return 0\n",
        "    return sum(numbers) / len(numbers)"
      ],
      "metadata": {
        "id": "To-FnD_b-aut"
      },
      "execution_count": null,
      "outputs": []
    },
    {
      "cell_type": "markdown",
      "source": [
        "Test with different numbers of arguments"
      ],
      "metadata": {
        "id": "TsOYY7LP-dwi"
      }
    },
    {
      "cell_type": "code",
      "source": [
        "avg1 = calculate_average(10, 20, 30)\n",
        "avg2 = calculate_average(5, 15, 25, 35, 45)\n",
        "avg3 = calculate_average(100)\n",
        "\n",
        "print(f\"Average of 10, 20, 30: {avg1}\")\n",
        "print(f\"Average of 5, 15, 25, 35, 45: {avg2}\")\n",
        "print(f\"Average of 100: {avg3}\")"
      ],
      "metadata": {
        "colab": {
          "base_uri": "https://localhost:8080/"
        },
        "id": "umc_B0y7-f9A",
        "outputId": "5b51b6b2-8ba8-4c8b-ec01-34b3d5f2c601"
      },
      "execution_count": null,
      "outputs": [
        {
          "output_type": "stream",
          "name": "stdout",
          "text": [
            "Average of 10, 20, 30: None\n",
            "Average of 5, 15, 25, 35, 45: None\n",
            "Average of 100: None\n"
          ]
        }
      ]
    },
    {
      "cell_type": "markdown",
      "source": [
        "\n",
        "Keyword arguments"
      ],
      "metadata": {
        "id": "GakcoEdC-lId"
      }
    },
    {
      "cell_type": "code",
      "source": [
        "\n",
        "def create_report(**data):\n",
        "  print(\"=== REPORT ===\")\n",
        "  for key, value in data.items():\n",
        "    print(f\"{key.replace('_', ' ').title()}: {value}\")\n",
        "\n",
        "  print(\"===============\")\n",
        "\n",
        "create_report(\n",
        "  title=\"Monthly Sales Report\",\n",
        "  date=\"2024-01-01\",\n",
        "  total_sales=15000,\n",
        "  new_customers=25,\n",
        "  returning_customers=150\n",
        ")"
      ],
      "metadata": {
        "colab": {
          "base_uri": "https://localhost:8080/"
        },
        "id": "iPC8cfYB-oqj",
        "outputId": "eccf137a-4eee-4803-beee-b6de324001e8"
      },
      "execution_count": null,
      "outputs": [
        {
          "output_type": "stream",
          "name": "stdout",
          "text": [
            "=== REPORT ===\n",
            "Title: Monthly Sales Report\n",
            "Date: 2024-01-01\n",
            "Total Sales: 15000\n",
            "New Customers: 25\n",
            "Returning Customers: 150\n",
            "===============\n"
          ]
        }
      ]
    },
    {
      "cell_type": "markdown",
      "source": [
        "**Lambda Functions**\n"
      ],
      "metadata": {
        "id": "8rHMygr4--_k"
      }
    },
    {
      "cell_type": "markdown",
      "source": [
        "\n",
        "Lambda functions (anonymous functions)"
      ],
      "metadata": {
        "id": "aEiRoHHO_CCr"
      }
    },
    {
      "cell_type": "markdown",
      "source": [
        "Regular function"
      ],
      "metadata": {
        "id": "-wqyHd5v_GXM"
      }
    },
    {
      "cell_type": "code",
      "source": [
        "def square(x):\n",
        "  return x ** 2"
      ],
      "metadata": {
        "id": "ZXCUggrT_PU5"
      },
      "execution_count": null,
      "outputs": []
    },
    {
      "cell_type": "markdown",
      "source": [
        "\n",
        "Lambda equivalent"
      ],
      "metadata": {
        "id": "tRtL_sjH_UcE"
      }
    },
    {
      "cell_type": "code",
      "source": [
        "square_lambda = lambda x: x ** 2\n",
        "print(f\"Regular function: {square(5)}\")\n",
        "print(f\"Lambda function: {square_lambda(5)}\")"
      ],
      "metadata": {
        "colab": {
          "base_uri": "https://localhost:8080/"
        },
        "id": "XjTsPWws_WES",
        "outputId": "4f8530d0-5fc4-4baf-be2e-b7cdf2471fba"
      },
      "execution_count": null,
      "outputs": [
        {
          "output_type": "stream",
          "name": "stdout",
          "text": [
            "Regular function: 25\n",
            "Lambda function: 25\n"
          ]
        }
      ]
    },
    {
      "cell_type": "markdown",
      "source": [
        "\n",
        "Lambda with multiple arguments"
      ],
      "metadata": {
        "id": "lLoKw0mv_aKl"
      }
    },
    {
      "cell_type": "code",
      "source": [
        "multiply = lambda x, y: x * y\n",
        "print(f\"Multiply: {multiply(3, 4)}\")"
      ],
      "metadata": {
        "colab": {
          "base_uri": "https://localhost:8080/"
        },
        "id": "rzVsnfqz_a0z",
        "outputId": "7c5fb822-e09a-4349-b558-144bd868566e"
      },
      "execution_count": null,
      "outputs": [
        {
          "output_type": "stream",
          "name": "stdout",
          "text": [
            "Multiply: 12\n"
          ]
        }
      ]
    },
    {
      "cell_type": "markdown",
      "source": [
        "\n",
        "Lambda with built-in functions"
      ],
      "metadata": {
        "id": "N8_WBtNZ_eFR"
      }
    },
    {
      "cell_type": "code",
      "source": [
        "numbers = [1, 2, 3, 4, 5]\n",
        "squared = list(map(lambda x: x**2, numbers))\n",
        "print(f\"Squared numbers: {squared}\")\n",
        "\n"
      ],
      "metadata": {
        "colab": {
          "base_uri": "https://localhost:8080/"
        },
        "id": "hUl3X08k_gLZ",
        "outputId": "ea047de5-97b2-403a-9b3f-ae9128ac0ed7"
      },
      "execution_count": null,
      "outputs": [
        {
          "output_type": "stream",
          "name": "stdout",
          "text": [
            "Squared numbers: [1, 4, 9, 16, 25]\n"
          ]
        }
      ]
    },
    {
      "cell_type": "markdown",
      "source": [
        "\n",
        "Filtering with lambda"
      ],
      "metadata": {
        "id": "Ty6sGfdL_kNF"
      }
    },
    {
      "cell_type": "code",
      "source": [
        "ages = [16, 21, 35, 12, 45, 18, 67]\n",
        "adults = list(filter(lambda age: age >= 18, ages))\n",
        "print(f\"Adult ages: {adults}\")"
      ],
      "metadata": {
        "colab": {
          "base_uri": "https://localhost:8080/"
        },
        "id": "jyqsLfFc_kzv",
        "outputId": "4d162df6-964e-428f-d66b-e2d742cc3a64"
      },
      "execution_count": null,
      "outputs": [
        {
          "output_type": "stream",
          "name": "stdout",
          "text": [
            "Adult ages: [21, 35, 45, 18, 67]\n"
          ]
        }
      ]
    },
    {
      "cell_type": "markdown",
      "source": [
        "Sorting with lambda"
      ],
      "metadata": {
        "id": "Nvq_hb08_nfS"
      }
    },
    {
      "cell_type": "code",
      "source": [
        "people = [\n",
        "  {\"name\": \"Alice\", \"age\": 30},\n",
        "  {\"name\": \"Bob\", \"age\": 25},\n",
        "  {\"name\": \"Charlie\", \"age\": 35}\n",
        "]\n",
        "\n",
        "sorted_people = sorted(people, key=lambda person: person[\"age\"])\n",
        "print(\"People sorted by age:\")\n",
        "\n",
        "for person in sorted_people:\n",
        "  print(f\" {person['name']}: {person['age']}\")\n"
      ],
      "metadata": {
        "colab": {
          "base_uri": "https://localhost:8080/"
        },
        "id": "cLZ835tC_pLr",
        "outputId": "4044bfea-8819-40a9-dc51-9303bf1bb542"
      },
      "execution_count": null,
      "outputs": [
        {
          "output_type": "stream",
          "name": "stdout",
          "text": [
            "People sorted by age:\n",
            " Bob: 25\n",
            " Alice: 30\n",
            " Charlie: 35\n"
          ]
        }
      ]
    },
    {
      "cell_type": "markdown",
      "source": [
        "**Hands-on Exercise**"
      ],
      "metadata": {
        "id": "iUV-ohrn_uDL"
      }
    },
    {
      "cell_type": "markdown",
      "source": [
        " Library Management System"
      ],
      "metadata": {
        "id": "oP5BB38u_1Rr"
      }
    },
    {
      "cell_type": "code",
      "source": [
        "def create_library_system():\n",
        "  \"\"\"\n",
        "  Create a simple library management system\n",
        "  \"\"\"\n",
        "  books = []\n",
        "\n",
        "  def add_book(title, author, isbn, available=True):\n",
        "    book = {\n",
        "    \"title\": title,\n",
        "    \"author\": author,\n",
        "    \"isbn\": isbn,\n",
        "    \"available\": available\n",
        "    }\n",
        "    books.append(book)\n",
        "    print(f\"Added: {title} by {author}\")\n",
        "\n",
        "  def find_book(title):\n",
        "    for book in books:\n",
        "      if book[\"title\"].lower() == title.lower():\n",
        "        return book\n",
        "    return None\n",
        "\n",
        "  def checkout_book(title):\n",
        "    book = find_book(title)\n",
        "    if book and book[\"available\"]:\n",
        "      book[\"available\"] = False\n",
        "      print(f\"Checked out: {title}\")\n",
        "      return True\n",
        "    else:\n",
        "      print(f\"Book not available: {title}\")\n",
        "      return False\n",
        "\n",
        "  def return_book(title):\n",
        "    book = find_book(title)\n",
        "    if book:\n",
        "      book[\"available\"] = True\n",
        "      print(f\"Returned: {title}\")\n",
        "      return True\n",
        "    else:\n",
        "      print(f\"Book not found: {title}\")\n",
        "      return False\n",
        "\n",
        "  def list_available_books():\n",
        "    available = [book for book in books if book[\"available\"]]\n",
        "    print(\"Available books:\")\n",
        "    for book in available:\n",
        "      print(f\" - {book['title']} by {book['author']}\")\n",
        "      return available\n",
        "\n",
        "  return add_book, find_book, checkout_book, return_book, list_available_books\n"
      ],
      "metadata": {
        "id": "l8yHtAnx_3sE"
      },
      "execution_count": null,
      "outputs": []
    },
    {
      "cell_type": "markdown",
      "source": [
        "Test the library system"
      ],
      "metadata": {
        "id": "iJLnxBnE_-Ak"
      }
    },
    {
      "cell_type": "code",
      "source": [
        "add_book, find_book, checkout_book, return_book, list_available = create_library_system()\n",
        "\n",
        "# Add some books\n",
        "add_book(\"The Python Guide\", \"John Doe\", \"123-456-789\")\n",
        "add_book(\"Web Development Basics\", \"Jane Smith\", \"987-654-321\")\n",
        "add_book(\"Database Design\", \"Bob Johnson\", \"555-123-456\")\n",
        "\n",
        "# Test operations\n",
        "print(\"\\n--- Library Operations ---\")\n",
        "list_available()\n",
        "print()\n",
        "\n",
        "checkout_book(\"The Python Guide\")\n",
        "list_available()\n",
        "print()\n",
        "\n",
        "return_book(\"The Python Guide\")\n",
        "list_available()"
      ],
      "metadata": {
        "colab": {
          "base_uri": "https://localhost:8080/"
        },
        "id": "2J2v8KXrAAmT",
        "outputId": "a0e409dc-ff5b-4cb3-cabe-365cf163c26e"
      },
      "execution_count": null,
      "outputs": [
        {
          "output_type": "stream",
          "name": "stdout",
          "text": [
            "Added: The Python Guide by John Doe\n",
            "Added: Web Development Basics by Jane Smith\n",
            "Added: Database Design by Bob Johnson\n",
            "\n",
            "--- Library Operations ---\n",
            "Available books:\n",
            " - The Python Guide by John Doe\n",
            "\n",
            "Checked out: The Python Guide\n",
            "Available books:\n",
            " - Web Development Basics by Jane Smith\n",
            "\n",
            "Returned: The Python Guide\n",
            "Available books:\n",
            " - The Python Guide by John Doe\n"
          ]
        },
        {
          "output_type": "execute_result",
          "data": {
            "text/plain": [
              "[{'title': 'The Python Guide',\n",
              "  'author': 'John Doe',\n",
              "  'isbn': '123-456-789',\n",
              "  'available': True},\n",
              " {'title': 'Web Development Basics',\n",
              "  'author': 'Jane Smith',\n",
              "  'isbn': '987-654-321',\n",
              "  'available': True},\n",
              " {'title': 'Database Design',\n",
              "  'author': 'Bob Johnson',\n",
              "  'isbn': '555-123-456',\n",
              "  'available': True}]"
            ]
          },
          "metadata": {},
          "execution_count": 13
        }
      ]
    }
  ]
}